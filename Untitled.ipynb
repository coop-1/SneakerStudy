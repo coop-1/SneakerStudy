{
 "cells": [
  {
   "cell_type": "code",
   "execution_count": 1,
   "metadata": {},
   "outputs": [],
   "source": [
    "import pandas as pd"
   ]
  },
  {
   "cell_type": "code",
   "execution_count": 5,
   "metadata": {},
   "outputs": [],
   "source": [
    "sneakers_df = pd.read_csv('SneakerData.csv')\n",
    "income_df = pd.read_csv('US_Income_Data.csv')"
   ]
  },
  {
   "cell_type": "code",
   "execution_count": 11,
   "metadata": {},
   "outputs": [
    {
     "data": {
      "text/html": [
       "<div>\n",
       "<style scoped>\n",
       "    .dataframe tbody tr th:only-of-type {\n",
       "        vertical-align: middle;\n",
       "    }\n",
       "\n",
       "    .dataframe tbody tr th {\n",
       "        vertical-align: top;\n",
       "    }\n",
       "\n",
       "    .dataframe thead th {\n",
       "        text-align: right;\n",
       "    }\n",
       "</style>\n",
       "<table border=\"1\" class=\"dataframe\">\n",
       "  <thead>\n",
       "    <tr style=\"text-align: right;\">\n",
       "      <th></th>\n",
       "      <th>GeoFIPS</th>\n",
       "      <th>GeoName</th>\n",
       "      <th>Region</th>\n",
       "      <th>TableName</th>\n",
       "      <th>LineCode</th>\n",
       "      <th>IndustryClassification</th>\n",
       "      <th>Description</th>\n",
       "      <th>Unit</th>\n",
       "      <th>1948:Q1</th>\n",
       "      <th>1948:Q2</th>\n",
       "      <th>...</th>\n",
       "      <th>2017:Q2</th>\n",
       "      <th>2017:Q3</th>\n",
       "      <th>2017:Q4</th>\n",
       "      <th>2018:Q1</th>\n",
       "      <th>2018:Q2</th>\n",
       "      <th>2018:Q3</th>\n",
       "      <th>2018:Q4</th>\n",
       "      <th>2019:Q1</th>\n",
       "      <th>2019:Q2</th>\n",
       "      <th>2019:Q3</th>\n",
       "    </tr>\n",
       "  </thead>\n",
       "  <tbody>\n",
       "  </tbody>\n",
       "</table>\n",
       "<p>0 rows × 295 columns</p>\n",
       "</div>"
      ],
      "text/plain": [
       "Empty DataFrame\n",
       "Columns: [GeoFIPS, GeoName, Region, TableName, LineCode, IndustryClassification, Description, Unit, 1948:Q1, 1948:Q2, 1948:Q3, 1948:Q4, 1949:Q1, 1949:Q2, 1949:Q3, 1949:Q4, 1950:Q1, 1950:Q2, 1950:Q3, 1950:Q4, 1951:Q1, 1951:Q2, 1951:Q3, 1951:Q4, 1952:Q1, 1952:Q2, 1952:Q3, 1952:Q4, 1953:Q1, 1953:Q2, 1953:Q3, 1953:Q4, 1954:Q1, 1954:Q2, 1954:Q3, 1954:Q4, 1955:Q1, 1955:Q2, 1955:Q3, 1955:Q4, 1956:Q1, 1956:Q2, 1956:Q3, 1956:Q4, 1957:Q1, 1957:Q2, 1957:Q3, 1957:Q4, 1958:Q1, 1958:Q2, 1958:Q3, 1958:Q4, 1959:Q1, 1959:Q2, 1959:Q3, 1959:Q4, 1960:Q1, 1960:Q2, 1960:Q3, 1960:Q4, 1961:Q1, 1961:Q2, 1961:Q3, 1961:Q4, 1962:Q1, 1962:Q2, 1962:Q3, 1962:Q4, 1963:Q1, 1963:Q2, 1963:Q3, 1963:Q4, 1964:Q1, 1964:Q2, 1964:Q3, 1964:Q4, 1965:Q1, 1965:Q2, 1965:Q3, 1965:Q4, 1966:Q1, 1966:Q2, 1966:Q3, 1966:Q4, 1967:Q1, 1967:Q2, 1967:Q3, 1967:Q4, 1968:Q1, 1968:Q2, 1968:Q3, 1968:Q4, 1969:Q1, 1969:Q2, 1969:Q3, 1969:Q4, 1970:Q1, 1970:Q2, 1970:Q3, 1970:Q4, ...]\n",
       "Index: []\n",
       "\n",
       "[0 rows x 295 columns]"
      ]
     },
     "execution_count": 11,
     "metadata": {},
     "output_type": "execute_result"
    }
   ],
   "source": [
    "income_df[income_df['Description'] == 'Per capita personal income (dollars)']"
   ]
  },
  {
   "cell_type": "code",
   "execution_count": 7,
   "metadata": {},
   "outputs": [
    {
     "data": {
      "text/plain": [
       "array(['Personal income (millions of dollars, seasonally adjusted)',\n",
       "       'Population (midperiod, persons) 1/',\n",
       "       'Per capita personal income (dollars) 2/', nan], dtype=object)"
      ]
     },
     "execution_count": 7,
     "metadata": {},
     "output_type": "execute_result"
    }
   ],
   "source": [
    "income_df['Description'].unique()"
   ]
  },
  {
   "cell_type": "code",
   "execution_count": null,
   "metadata": {},
   "outputs": [],
   "source": []
  }
 ],
 "metadata": {
  "kernelspec": {
   "display_name": "Python 3",
   "language": "python",
   "name": "python3"
  },
  "language_info": {
   "codemirror_mode": {
    "name": "ipython",
    "version": 3
   },
   "file_extension": ".py",
   "mimetype": "text/x-python",
   "name": "python",
   "nbconvert_exporter": "python",
   "pygments_lexer": "ipython3",
   "version": "3.7.1"
  }
 },
 "nbformat": 4,
 "nbformat_minor": 2
}
